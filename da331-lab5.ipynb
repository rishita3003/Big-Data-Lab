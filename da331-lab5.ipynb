{
  "cells": [
    {
      "cell_type": "code",
      "source": [
        "# This Python 3 environment comes with many helpful analytics libraries installed\n",
        "# It is defined by the kaggle/python Docker image: https://github.com/kaggle/docker-python\n",
        "# For example, here's several helpful packages to load\n",
        "\n",
        "import numpy as np # linear algebra\n",
        "import pandas as pd # data processing, CSV file I/O (e.g. pd.read_csv)\n",
        "\n",
        "# Input data files are available in the read-only \"../input/\" directory\n",
        "# For example, running this (by clicking run or pressing Shift+Enter) will list all files under the input directory\n",
        "\n",
        "import os\n",
        "for dirname, _, filenames in os.walk('/kaggle/input'):\n",
        "    for filename in filenames:\n",
        "        print(os.path.join(dirname, filename))\n",
        "\n",
        "# You can write up to 20GB to the current directory (/kaggle/working/) that gets preserved as output when you create a version using \"Save & Run All\" \n",
        "# You can also write temporary files to /kaggle/temp/, but they won't be saved outside of the current session"
      ],
      "outputs": [
        {
          "output_type": "stream",
          "name": "stdout",
          "text": "/kaggle/input/ecommerce-behavior-data-from-multi-category-store/2019-Nov.csv\n/kaggle/input/ecommerce-behavior-data-from-multi-category-store/2019-Oct.csv\n"
        }
      ],
      "execution_count": 3,
      "metadata": {
        "_uuid": "8f2839f25d086af736a60e9eeb907d3b93b6e0e5",
        "_cell_guid": "b1076dfc-b9ad-4769-8c92-a6c4dae69d19",
        "execution": {
          "iopub.status.busy": "2024-08-28T02:44:47.218196Z",
          "iopub.execute_input": "2024-08-28T02:44:47.218668Z",
          "iopub.status.idle": "2024-08-28T02:44:47.231048Z",
          "shell.execute_reply.started": "2024-08-28T02:44:47.218624Z",
          "shell.execute_reply": "2024-08-28T02:44:47.229496Z"
        },
        "trusted": true
      }
    },
    {
      "cell_type": "code",
      "source": [
        "!pip install pyspark"
      ],
      "outputs": [
        {
          "output_type": "stream",
          "name": "stdout",
          "text": "Collecting pyspark\n  Downloading pyspark-3.5.2.tar.gz (317.3 MB)\n\u001b[2K     \u001b[90m━━━━━━━━━━━━━━━━━━━━━━━━━━━━━━━━━━━━━━━\u001b[0m \u001b[32m317.3/317.3 MB\u001b[0m \u001b[31m4.8 MB/s\u001b[0m eta \u001b[36m0:00:00\u001b[0m00:01\u001b[0m00:01\u001b[0m\n\u001b[?25h  Preparing metadata (setup.py) ... \u001b[?25ldone\n\u001b[?25hRequirement already satisfied: py4j==0.10.9.7 in /opt/conda/lib/python3.10/site-packages (from pyspark) (0.10.9.7)\nBuilding wheels for collected packages: pyspark\n  Building wheel for pyspark (setup.py) ... \u001b[?25ldone\n\u001b[?25h  Created wheel for pyspark: filename=pyspark-3.5.2-py2.py3-none-any.whl size=317812364 sha256=b47c355dc1db4b2f9c93b0d4d57100dddff54c854e13e026bf2797836c0ad11c\n  Stored in directory: /root/.cache/pip/wheels/34/34/bd/03944534c44b677cd5859f248090daa9fb27b3c8f8e5f49574\nSuccessfully built pyspark\nInstalling collected packages: pyspark\nSuccessfully installed pyspark-3.5.2\n"
        }
      ],
      "execution_count": 4,
      "metadata": {
        "execution": {
          "iopub.status.busy": "2024-08-28T02:44:47.234441Z",
          "iopub.execute_input": "2024-08-28T02:44:47.234868Z",
          "iopub.status.idle": "2024-08-28T02:45:46.032180Z",
          "shell.execute_reply.started": "2024-08-28T02:44:47.234827Z",
          "shell.execute_reply": "2024-08-28T02:45:46.030635Z"
        },
        "trusted": true
      }
    },
    {
      "cell_type": "code",
      "source": [
        "# import pyspark.sql classes and functions\n",
        "import pyspark\n",
        "from pyspark.sql import SparkSession\n",
        "from pyspark.sql.types import StructType, StructField, StringType, IntegerType\n",
        "from pyspark.sql.types import ArrayType, DoubleType, BooleanType\n",
        "from pyspark.sql.functions import col, array_contains, isnan, when, count\n",
        "from pyspark.sql.functions import lit, concat_ws, concat, collect_list, udf\n",
        "from pyspark.sql.functions import countDistinct\n",
        "\n",
        "spark = SparkSession.builder.appName(\"answers\").getOrCreate()"
      ],
      "outputs": [
        {
          "output_type": "stream",
          "name": "stderr",
          "text": "Setting default log level to \"WARN\".\nTo adjust logging level use sc.setLogLevel(newLevel). For SparkR, use setLogLevel(newLevel).\n24/08/28 02:45:50 WARN NativeCodeLoader: Unable to load native-hadoop library for your platform... using builtin-java classes where applicable\n"
        }
      ],
      "execution_count": 5,
      "metadata": {
        "execution": {
          "iopub.status.busy": "2024-08-28T02:45:46.034358Z",
          "iopub.execute_input": "2024-08-28T02:45:46.034914Z",
          "iopub.status.idle": "2024-08-28T02:45:52.829270Z",
          "shell.execute_reply.started": "2024-08-28T02:45:46.034854Z",
          "shell.execute_reply": "2024-08-28T02:45:52.827223Z"
        },
        "trusted": true
      }
    },
    {
      "cell_type": "code",
      "source": [
        "path = \"/kaggle/input/ecommerce-behavior-data-from-multi-category-store\"\n",
        "df = spark.read.option(\"header\",'True').option('delimiter', ',').csv(path, inferSchema = True)\n",
        "df.printSchema()"
      ],
      "outputs": [
        {
          "output_type": "stream",
          "name": "stderr",
          "text": "[Stage 1:======================================================>(109 + 1) / 110]\r"
        },
        {
          "output_type": "stream",
          "name": "stdout",
          "text": "root\n |-- event_time: timestamp (nullable = true)\n |-- event_type: string (nullable = true)\n |-- product_id: integer (nullable = true)\n |-- category_id: long (nullable = true)\n |-- category_code: string (nullable = true)\n |-- brand: string (nullable = true)\n |-- price: double (nullable = true)\n |-- user_id: integer (nullable = true)\n |-- user_session: string (nullable = true)\n\n"
        },
        {
          "output_type": "stream",
          "name": "stderr",
          "text": "                                                                                \r"
        }
      ],
      "execution_count": 6,
      "metadata": {
        "execution": {
          "iopub.status.busy": "2024-08-28T02:45:52.832173Z",
          "iopub.execute_input": "2024-08-28T02:45:52.833033Z",
          "iopub.status.idle": "2024-08-28T02:51:38.281140Z",
          "shell.execute_reply.started": "2024-08-28T02:45:52.832965Z",
          "shell.execute_reply": "2024-08-28T02:51:38.279982Z"
        },
        "trusted": true
      }
    },
    {
      "cell_type": "code",
      "source": [
        "path1 = \"/kaggle/input/ecommerce-behavior-data-from-multi-category-store/2019-Nov.csv\"\n",
        "df_nov = spark.read.option(\"header\",\"True\").option(\"delimiter\",\",\").csv(path1, inferSchema = True)\n",
        "#df_nov.show()"
      ],
      "outputs": [
        {
          "output_type": "stream",
          "name": "stderr",
          "text": "                                                                                \r"
        }
      ],
      "execution_count": 8,
      "metadata": {
        "execution": {
          "iopub.status.busy": "2024-08-28T02:52:50.957875Z",
          "iopub.execute_input": "2024-08-28T02:52:50.958668Z",
          "iopub.status.idle": "2024-08-28T02:59:07.544105Z",
          "shell.execute_reply.started": "2024-08-28T02:52:50.958592Z",
          "shell.execute_reply": "2024-08-28T02:59:07.542455Z"
        },
        "trusted": true
      }
    },
    {
      "cell_type": "code",
      "source": [
        "path2 = \"/kaggle/input/ecommerce-behavior-data-from-multi-category-store/2019-Oct.csv\"\n",
        "df_oct = spark.read.option(\"header\",\"True\").option(\"delimiter\",\",\").csv(path2, inferSchema = True)\n",
        "#df_oct.show()"
      ],
      "outputs": [
        {
          "output_type": "stream",
          "name": "stderr",
          "text": "                                                                                \r"
        }
      ],
      "execution_count": 9,
      "metadata": {
        "execution": {
          "iopub.status.busy": "2024-08-28T02:59:07.547372Z",
          "iopub.execute_input": "2024-08-28T02:59:07.547835Z",
          "iopub.status.idle": "2024-08-28T03:01:17.097687Z",
          "shell.execute_reply.started": "2024-08-28T02:59:07.547790Z",
          "shell.execute_reply": "2024-08-28T03:01:17.096207Z"
        },
        "trusted": true
      }
    },
    {
      "cell_type": "code",
      "source": [
        "df_nov"
      ],
      "outputs": [
        {
          "output_type": "execute_result",
          "execution_count": 10,
          "data": {
            "text/plain": "DataFrame[event_time: timestamp, event_type: string, product_id: int, category_id: bigint, category_code: string, brand: string, price: double, user_id: int, user_session: string]"
          },
          "metadata": {}
        }
      ],
      "execution_count": 10,
      "metadata": {
        "execution": {
          "iopub.status.busy": "2024-08-28T03:01:17.099622Z",
          "iopub.execute_input": "2024-08-28T03:01:17.100118Z",
          "iopub.status.idle": "2024-08-28T03:01:17.179391Z",
          "shell.execute_reply.started": "2024-08-28T03:01:17.100072Z",
          "shell.execute_reply": "2024-08-28T03:01:17.178152Z"
        },
        "trusted": true
      }
    },
    {
      "cell_type": "markdown",
      "source": [
        "# Question 1"
      ],
      "metadata": {}
    },
    {
      "cell_type": "code",
      "source": [
        "df_cat_nov = df_nov.select(['category_code', 'event_type'])\n",
        "df_cat_nov_view = df_cat_nov.filter(df_cat_nov[\"event_type\"] == \"view\")\n",
        "df_cat_nov_cart = df_cat_nov.filter(df_cat_nov[\"event_type\"] == \"cart\")"
      ],
      "outputs": [],
      "execution_count": 12,
      "metadata": {
        "execution": {
          "iopub.status.busy": "2024-08-28T03:03:06.234751Z",
          "iopub.execute_input": "2024-08-28T03:03:06.235610Z",
          "iopub.status.idle": "2024-08-28T03:03:06.308081Z",
          "shell.execute_reply.started": "2024-08-28T03:03:06.235557Z",
          "shell.execute_reply": "2024-08-28T03:03:06.306862Z"
        },
        "trusted": true
      }
    },
    {
      "cell_type": "code",
      "source": [
        "df_cat_oct = df_oct.select(['category_code', 'event_type'])\n",
        "df_cat_oct_view = df_cat_oct.filter(df_cat_oct[\"event_type\"] == \"view\")\n",
        "df_cat_oct_cart = df_cat_oct.filter(df_cat_oct[\"event_type\"] == \"cart\")"
      ],
      "outputs": [],
      "execution_count": 17,
      "metadata": {
        "execution": {
          "iopub.status.busy": "2024-08-28T03:04:39.436264Z",
          "iopub.execute_input": "2024-08-28T03:04:39.437003Z",
          "iopub.status.idle": "2024-08-28T03:04:39.497150Z",
          "shell.execute_reply.started": "2024-08-28T03:04:39.436916Z",
          "shell.execute_reply": "2024-08-28T03:04:39.492204Z"
        },
        "trusted": true
      }
    },
    {
      "cell_type": "code",
      "source": [
        "df_cat_nov_view = df_cat_nov_view.na.drop(subset=[\"category_code\"])"
      ],
      "outputs": [],
      "execution_count": 13,
      "metadata": {
        "execution": {
          "iopub.status.busy": "2024-08-28T03:03:07.724067Z",
          "iopub.execute_input": "2024-08-28T03:03:07.724649Z",
          "iopub.status.idle": "2024-08-28T03:03:07.751311Z",
          "shell.execute_reply.started": "2024-08-28T03:03:07.724594Z",
          "shell.execute_reply": "2024-08-28T03:03:07.749995Z"
        },
        "trusted": true
      }
    },
    {
      "cell_type": "code",
      "source": [
        "df_cat_oct_view = df_cat_oct_view.na.drop(subset=[\"category_code\"])"
      ],
      "outputs": [],
      "execution_count": 18,
      "metadata": {
        "execution": {
          "iopub.status.busy": "2024-08-28T03:04:55.210676Z",
          "iopub.execute_input": "2024-08-28T03:04:55.211182Z",
          "iopub.status.idle": "2024-08-28T03:04:55.230464Z",
          "shell.execute_reply.started": "2024-08-28T03:04:55.211142Z",
          "shell.execute_reply": "2024-08-28T03:04:55.229045Z"
        },
        "trusted": true
      }
    },
    {
      "cell_type": "code",
      "source": [
        "df_cat_nov_cart = df_cat_nov_cart.na.drop(subset=[\"category_code\"])"
      ],
      "outputs": [],
      "execution_count": 14,
      "metadata": {
        "execution": {
          "iopub.status.busy": "2024-08-28T03:03:08.525016Z",
          "iopub.execute_input": "2024-08-28T03:03:08.525657Z",
          "iopub.status.idle": "2024-08-28T03:03:08.541850Z",
          "shell.execute_reply.started": "2024-08-28T03:03:08.525604Z",
          "shell.execute_reply": "2024-08-28T03:03:08.540299Z"
        },
        "trusted": true
      }
    },
    {
      "cell_type": "code",
      "source": [
        "df_cat_oct_cart = df_cat_oct_cart.na.drop(subset=[\"category_code\"])"
      ],
      "outputs": [],
      "execution_count": 19,
      "metadata": {
        "execution": {
          "iopub.status.busy": "2024-08-28T03:05:06.735385Z",
          "iopub.execute_input": "2024-08-28T03:05:06.737050Z",
          "iopub.status.idle": "2024-08-28T03:05:06.753874Z",
          "shell.execute_reply.started": "2024-08-28T03:05:06.736979Z",
          "shell.execute_reply": "2024-08-28T03:05:06.752304Z"
        },
        "trusted": true
      }
    },
    {
      "cell_type": "code",
      "source": [
        "import pyspark.sql.functions as f"
      ],
      "outputs": [],
      "execution_count": 11,
      "metadata": {
        "execution": {
          "iopub.status.busy": "2024-08-28T03:03:02.730251Z",
          "iopub.execute_input": "2024-08-28T03:03:02.730703Z",
          "iopub.status.idle": "2024-08-28T03:03:02.737572Z",
          "shell.execute_reply.started": "2024-08-28T03:03:02.730661Z",
          "shell.execute_reply": "2024-08-28T03:03:02.736093Z"
        },
        "trusted": true
      }
    },
    {
      "cell_type": "code",
      "source": [
        "df_cat_nov_view = df_cat_nov_view.groupBy('category_code').agg(f.count('event_type').alias(\"view_count\"))\n",
        "df_cat_nov_view"
      ],
      "outputs": [
        {
          "output_type": "execute_result",
          "execution_count": 15,
          "data": {
            "text/plain": "DataFrame[category_code: string, view_count: bigint]"
          },
          "metadata": {}
        }
      ],
      "execution_count": 15,
      "metadata": {
        "execution": {
          "iopub.status.busy": "2024-08-28T03:03:20.411883Z",
          "iopub.execute_input": "2024-08-28T03:03:20.412861Z",
          "iopub.status.idle": "2024-08-28T03:03:20.494044Z",
          "shell.execute_reply.started": "2024-08-28T03:03:20.412802Z",
          "shell.execute_reply": "2024-08-28T03:03:20.492672Z"
        },
        "trusted": true
      }
    },
    {
      "cell_type": "code",
      "source": [
        "df_cat_oct_view = df_cat_oct_view.groupBy('category_code').agg(f.count('event_type').alias(\"view_count\"))\n",
        "df_cat_oct_view"
      ],
      "outputs": [
        {
          "output_type": "execute_result",
          "execution_count": 20,
          "data": {
            "text/plain": "DataFrame[category_code: string, view_count: bigint]"
          },
          "metadata": {}
        }
      ],
      "execution_count": 20,
      "metadata": {
        "execution": {
          "iopub.status.busy": "2024-08-28T03:05:26.993616Z",
          "iopub.execute_input": "2024-08-28T03:05:26.994078Z",
          "iopub.status.idle": "2024-08-28T03:05:27.033637Z",
          "shell.execute_reply.started": "2024-08-28T03:05:26.994039Z",
          "shell.execute_reply": "2024-08-28T03:05:27.032133Z"
        },
        "trusted": true
      }
    },
    {
      "cell_type": "code",
      "source": [
        "df_cat_nov_cart = df_cat_nov_cart.groupBy('category_code').agg(f.count('event_type').alias(\"cart_count\"))\n",
        "df_cat_nov_cart"
      ],
      "outputs": [
        {
          "output_type": "execute_result",
          "execution_count": 16,
          "data": {
            "text/plain": "DataFrame[category_code: string, cart_count: bigint]"
          },
          "metadata": {}
        }
      ],
      "execution_count": 16,
      "metadata": {
        "execution": {
          "iopub.status.busy": "2024-08-28T03:03:49.962904Z",
          "iopub.execute_input": "2024-08-28T03:03:49.963676Z",
          "iopub.status.idle": "2024-08-28T03:03:50.005894Z",
          "shell.execute_reply.started": "2024-08-28T03:03:49.963591Z",
          "shell.execute_reply": "2024-08-28T03:03:50.004658Z"
        },
        "trusted": true
      }
    },
    {
      "cell_type": "code",
      "source": [
        "df_cat_oct_cart = df_cat_oct_cart.groupBy('category_code').agg(f.count('event_type').alias(\"cart_count\"))\n",
        "df_cat_oct_cart"
      ],
      "outputs": [
        {
          "output_type": "execute_result",
          "execution_count": 21,
          "data": {
            "text/plain": "DataFrame[category_code: string, cart_count: bigint]"
          },
          "metadata": {}
        }
      ],
      "execution_count": 21,
      "metadata": {
        "execution": {
          "iopub.status.busy": "2024-08-28T03:05:40.912666Z",
          "iopub.execute_input": "2024-08-28T03:05:40.913179Z",
          "iopub.status.idle": "2024-08-28T03:05:40.945635Z",
          "shell.execute_reply.started": "2024-08-28T03:05:40.913133Z",
          "shell.execute_reply": "2024-08-28T03:05:40.944333Z"
        },
        "trusted": true
      }
    },
    {
      "cell_type": "code",
      "source": [
        "df_cart_view_nov = df_cat_nov_cart.join(df_cat_nov_view, df_cat_nov_view.category_code == df_cat_nov_cart.category_code, \"inner\")\n",
        "df_cart_view_nov"
      ],
      "outputs": [
        {
          "output_type": "execute_result",
          "execution_count": 23,
          "data": {
            "text/plain": "DataFrame[category_code: string, cart_count: bigint, category_code: string, view_count: bigint]"
          },
          "metadata": {}
        }
      ],
      "execution_count": 23,
      "metadata": {
        "execution": {
          "iopub.status.busy": "2024-08-28T03:07:29.971739Z",
          "iopub.execute_input": "2024-08-28T03:07:29.972292Z",
          "iopub.status.idle": "2024-08-28T03:07:30.080649Z",
          "shell.execute_reply.started": "2024-08-28T03:07:29.972229Z",
          "shell.execute_reply": "2024-08-28T03:07:30.079372Z"
        },
        "trusted": true
      }
    },
    {
      "cell_type": "code",
      "source": [
        "df_ratio_nov = df_cart_view_nov.withColumn(\"conversion_ratio\", df_cart_view_nov[\"cart_count\"]/df_cart_view_nov[\"view_count\"])\n",
        "df_ratio_nov = df_ratio_nov.sort(\"conversion_ratio\", ascending=[False]) \n",
        "df_ratio_nov.show()"
      ],
      "outputs": [
        {
          "output_type": "stream",
          "name": "stderr",
          "text": "[Stage 13:=======================================================>(67 + 1) / 68]\r"
        },
        {
          "output_type": "stream",
          "name": "stdout",
          "text": "+--------------------+----------+--------------------+----------+--------------------+\n|       category_code|cart_count|       category_code|view_count|    conversion_ratio|\n+--------------------+----------+--------------------+----------+--------------------+\n|   kids.fmcg.diapers|      2463|   kids.fmcg.diapers|     29296| 0.08407291097760787|\n|appliances.kitche...|         8|appliances.kitche...|        99| 0.08080808080808081|\n|electronics.audio...|    131133|electronics.audio...|   1644910| 0.07972047102881008|\n|electronics.smart...|   1159966|electronics.smart...|  14832387| 0.07820494435588823|\n|appliances.enviro...|     11914|appliances.enviro...|    194075| 0.06138863841298467|\n|medicine.tools.to...|      1274|medicine.tools.to...|     20764| 0.06135619341167405|\n|appliances.kitche...|     15938|appliances.kitche...|    285186|0.055886333831253986|\n|appliances.person...|      4855|appliances.person...|     88564| 0.05481911386116255|\n| stationery.cartrige|       644| stationery.cartrige|     11943|0.053922799966507576|\n|appliances.kitche...|     70287|appliances.kitche...|   1313807|0.053498725459675586|\n|electronics.video.tv|    106467|electronics.video.tv|   2071305| 0.05140092840021146|\n|     appliances.iron|     14308|     appliances.iron|    278574| 0.05136157717518505|\n|computers.compone...|      5374|computers.compone...|    108021|0.049749585728700904|\n|appliances.enviro...|     13121|appliances.enviro...|    269283| 0.04872569007326864|\n|  electronics.tablet|     22286|  electronics.tablet|    464073| 0.04802261713135649|\n|computers.periphe...|      9900|computers.periphe...|    209130|0.047338975756706356|\n|auto.accessories....|      2213|auto.accessories....|     47145| 0.04694029059285184|\n|appliances.kitche...|     12196|appliances.kitche...|    264161| 0.04616881371587782|\n|computers.periphe...|      5002|computers.periphe...|    109467| 0.04569413613235039|\n|appliances.ironin...|      2744|appliances.ironin...|     60187| 0.04559124063335936|\n+--------------------+----------+--------------------+----------+--------------------+\nonly showing top 20 rows\n\n"
        },
        {
          "output_type": "stream",
          "name": "stderr",
          "text": "                                                                                \r"
        }
      ],
      "execution_count": 25,
      "metadata": {
        "execution": {
          "iopub.status.busy": "2024-08-28T03:09:50.371686Z",
          "iopub.execute_input": "2024-08-28T03:09:50.372322Z",
          "iopub.status.idle": "2024-08-28T03:13:49.352955Z",
          "shell.execute_reply.started": "2024-08-28T03:09:50.372256Z",
          "shell.execute_reply": "2024-08-28T03:13:49.350523Z"
        },
        "trusted": true
      }
    },
    {
      "cell_type": "code",
      "source": [
        "df_cart_view_oct = df_cat_oct_cart.join(df_cat_oct_view, df_cat_oct_view.category_code == df_cat_oct_cart.category_code, \"inner\")\n",
        "df_cart_view_oct"
      ],
      "outputs": [
        {
          "output_type": "execute_result",
          "execution_count": 26,
          "data": {
            "text/plain": "DataFrame[category_code: string, cart_count: bigint, category_code: string, view_count: bigint]"
          },
          "metadata": {}
        }
      ],
      "execution_count": 26,
      "metadata": {
        "execution": {
          "iopub.status.busy": "2024-08-28T03:13:49.362205Z",
          "iopub.execute_input": "2024-08-28T03:13:49.363603Z",
          "iopub.status.idle": "2024-08-28T03:13:49.420701Z",
          "shell.execute_reply.started": "2024-08-28T03:13:49.363525Z",
          "shell.execute_reply": "2024-08-28T03:13:49.419426Z"
        },
        "trusted": true
      }
    },
    {
      "cell_type": "code",
      "source": [
        "df_ratio_oct = df_cart_view_oct.withColumn(\"conversion_ratio\", df_cart_view_oct[\"cart_count\"]/df_cart_view_oct[\"view_count\"])\n",
        "df_ratio_oct = df_ratio_oct.sort(\"conversion_ratio\", ascending=[False]) \n",
        "df_ratio_oct.show()"
      ],
      "outputs": [
        {
          "output_type": "stream",
          "name": "stderr",
          "text": "[Stage 21:======================================================> (42 + 1) / 43]\r"
        },
        {
          "output_type": "stream",
          "name": "stdout",
          "text": "+--------------------+----------+--------------------+----------+--------------------+\n|       category_code|cart_count|       category_code|view_count|    conversion_ratio|\n+--------------------+----------+--------------------+----------+--------------------+\n|electronics.smart...|    549765|electronics.smart...|  10619448| 0.05176964000388721|\n|electronics.audio...|     51143|electronics.audio...|   1018542|0.050211969658590414|\n|medicine.tools.to...|       522|medicine.tools.to...|     13974|  0.0373550880206097|\n|electronics.video.tv|     36224|electronics.video.tv|   1055961|0.034304297223098204|\n|  electronics.tablet|      9140|  electronics.tablet|    301992|0.030265702402712653|\n|appliances.kitche...|      4717|appliances.kitche...|    164954|0.028595850964511317|\n|appliances.enviro...|      3916|appliances.enviro...|    138784|0.028216509107678117|\n|appliances.kitche...|     21977|appliances.kitche...|    831279| 0.02643757390719602|\n|     appliances.iron|      4095|     appliances.iron|    157645|0.025976085508579404|\n|computers.periphe...|      3685|computers.periphe...|    145611| 0.02530715399248683|\n|appliances.person...|      1412|appliances.person...|     62615|0.022550507066996725|\n|electronics.telep...|      5342|electronics.telep...|    238548|  0.0223938159196472|\n|appliances.enviro...|     17263|appliances.enviro...|    772029|0.022360558994545542|\n|auto.accessories....|      4100|auto.accessories....|    187634|0.021851050449278916|\n|construction.tool...|      1903|construction.tool...|     91255|0.020853651854692894|\n|appliances.enviro...|      2982|appliances.enviro...|    153390|0.019440641502053588|\n|appliances.kitche...|       222|appliances.kitche...|     11585|0.019162710401381098|\n|computers.compone...|      1171|computers.compone...|     62655|0.018689649668821324|\n|construction.tool...|      2559|construction.tool...|    139419|0.018354743614571904|\n|appliances.kitche...|      3257|appliances.kitche...|    178555|0.018240878160790792|\n+--------------------+----------+--------------------+----------+--------------------+\nonly showing top 20 rows\n\n"
        },
        {
          "output_type": "stream",
          "name": "stderr",
          "text": "                                                                                \r"
        }
      ],
      "execution_count": 27,
      "metadata": {
        "execution": {
          "iopub.status.busy": "2024-08-28T03:13:49.422179Z",
          "iopub.execute_input": "2024-08-28T03:13:49.422686Z",
          "iopub.status.idle": "2024-08-28T03:16:14.743215Z",
          "shell.execute_reply.started": "2024-08-28T03:13:49.422631Z",
          "shell.execute_reply": "2024-08-28T03:16:14.741453Z"
        },
        "trusted": true
      }
    },
    {
      "cell_type": "markdown",
      "source": [
        "## its clearly visible they are not same for both months"
      ],
      "metadata": {}
    },
    {
      "cell_type": "markdown",
      "source": [
        "# Question 2"
      ],
      "metadata": {}
    },
    {
      "cell_type": "code",
      "source": [
        "df_nov = df_nov.na.drop(subset = [\"category_code\"])\n",
        "df_oct = df_oct.na.drop(subset = [\"category_code\"])"
      ],
      "outputs": [],
      "execution_count": 53,
      "metadata": {
        "execution": {
          "iopub.status.busy": "2024-08-28T03:49:15.759854Z",
          "iopub.execute_input": "2024-08-28T03:49:15.760677Z",
          "iopub.status.idle": "2024-08-28T03:49:15.823794Z",
          "shell.execute_reply.started": "2024-08-28T03:49:15.760614Z",
          "shell.execute_reply": "2024-08-28T03:49:15.822177Z"
        },
        "trusted": true
      }
    },
    {
      "cell_type": "code",
      "source": [
        "df_nov_rev = df_nov.select([\"category_code\", \"price\", \"event_type\"])\n",
        "df_oct_rev = df_oct.select([\"category_code\", \"price\", \"event_type\"])"
      ],
      "outputs": [
        {
          "output_type": "stream",
          "name": "stderr",
          "text": "[Stage 62:============================================>           (54 + 4) / 68]\r"
        }
      ],
      "execution_count": 54,
      "metadata": {
        "execution": {
          "iopub.status.busy": "2024-08-28T03:49:17.036780Z",
          "iopub.execute_input": "2024-08-28T03:49:17.037783Z",
          "iopub.status.idle": "2024-08-28T03:49:17.107901Z",
          "shell.execute_reply.started": "2024-08-28T03:49:17.037718Z",
          "shell.execute_reply": "2024-08-28T03:49:17.106393Z"
        },
        "trusted": true
      }
    },
    {
      "cell_type": "code",
      "source": [
        "df_nov_rev = df_nov_rev.filter(df_nov_rev[\"event_type\"] == \"purchase\")\n",
        "df_oct_rev = df_oct_rev.filter(df_oct_rev[\"event_type\"] == \"purchase\")"
      ],
      "outputs": [
        {
          "output_type": "stream",
          "name": "stderr",
          "text": "[Stage 62:==============================================>         (56 + 4) / 68]\r"
        }
      ],
      "execution_count": 55,
      "metadata": {
        "execution": {
          "iopub.status.busy": "2024-08-28T03:49:18.154962Z",
          "iopub.execute_input": "2024-08-28T03:49:18.156045Z",
          "iopub.status.idle": "2024-08-28T03:49:18.178763Z",
          "shell.execute_reply.started": "2024-08-28T03:49:18.155979Z",
          "shell.execute_reply": "2024-08-28T03:49:18.177409Z"
        },
        "trusted": true
      }
    },
    {
      "cell_type": "code",
      "source": [
        "df_nov_rev = df_nov_rev.groupBy(\"category_code\").agg(f.sum(\"price\").alias(\"total_revenue_nov\"))\n",
        "df_oct_rev = df_oct_rev.groupBy(\"category_code\").agg(f.sum(\"price\").alias(\"total_revenue_oct\"))"
      ],
      "outputs": [],
      "execution_count": 56,
      "metadata": {
        "execution": {
          "iopub.status.busy": "2024-08-28T03:49:20.572335Z",
          "iopub.execute_input": "2024-08-28T03:49:20.572948Z",
          "iopub.status.idle": "2024-08-28T03:49:20.644714Z",
          "shell.execute_reply.started": "2024-08-28T03:49:20.572870Z",
          "shell.execute_reply": "2024-08-28T03:49:20.643348Z"
        },
        "trusted": true
      }
    },
    {
      "cell_type": "code",
      "source": [
        "df_oct_rev = df_oct_rev.withColumnRenamed(\"category_code\", \"category_code_oct\")\n",
        "df_nov_rev = df_nov_rev.withColumnRenamed(\"category_code\", \"category_code_nov\")\n",
        "df_oct_rev"
      ],
      "outputs": [
        {
          "output_type": "execute_result",
          "execution_count": 57,
          "data": {
            "text/plain": "DataFrame[category_code_oct: string, total_revenue_oct: double]"
          },
          "metadata": {}
        }
      ],
      "execution_count": 57,
      "metadata": {
        "execution": {
          "iopub.status.busy": "2024-08-28T03:49:22.268477Z",
          "iopub.execute_input": "2024-08-28T03:49:22.268991Z",
          "iopub.status.idle": "2024-08-28T03:49:22.324568Z",
          "shell.execute_reply.started": "2024-08-28T03:49:22.268910Z",
          "shell.execute_reply": "2024-08-28T03:49:22.323054Z"
        },
        "trusted": true
      }
    },
    {
      "cell_type": "code",
      "source": [
        "df_oct_nov_rev = df_oct_rev.join(df_nov_rev, df_oct_rev[\"category_code_oct\"] == df_nov_rev[\"category_code_nov\"])\n",
        "df_oct_nov_rev"
      ],
      "outputs": [
        {
          "output_type": "execute_result",
          "execution_count": 58,
          "data": {
            "text/plain": "DataFrame[category_code_oct: string, total_revenue_oct: double, category_code_nov: string, total_revenue_nov: double]"
          },
          "metadata": {}
        }
      ],
      "execution_count": 58,
      "metadata": {
        "execution": {
          "iopub.status.busy": "2024-08-28T03:49:23.709757Z",
          "iopub.execute_input": "2024-08-28T03:49:23.710376Z",
          "iopub.status.idle": "2024-08-28T03:49:23.744116Z",
          "shell.execute_reply.started": "2024-08-28T03:49:23.710314Z",
          "shell.execute_reply": "2024-08-28T03:49:23.742879Z"
        },
        "trusted": true
      }
    },
    {
      "cell_type": "code",
      "source": [
        "df_rev_diff = df_oct_nov_rev.withColumn(\"difference\", df_oct_nov_rev[\"total_revenue_nov\"] - df_oct_nov_rev[\"total_revenue_oct\"])\n",
        "df_rev_diff"
      ],
      "outputs": [
        {
          "output_type": "execute_result",
          "execution_count": 59,
          "data": {
            "text/plain": "DataFrame[category_code_oct: string, total_revenue_oct: double, category_code_nov: string, total_revenue_nov: double, difference: double]"
          },
          "metadata": {}
        }
      ],
      "execution_count": 59,
      "metadata": {
        "execution": {
          "iopub.status.busy": "2024-08-28T03:49:25.119963Z",
          "iopub.execute_input": "2024-08-28T03:49:25.120535Z",
          "iopub.status.idle": "2024-08-28T03:49:25.172494Z",
          "shell.execute_reply.started": "2024-08-28T03:49:25.120476Z",
          "shell.execute_reply": "2024-08-28T03:49:25.171170Z"
        },
        "trusted": true
      }
    },
    {
      "cell_type": "code",
      "source": [
        "df_rev_diff.show(10)"
      ],
      "outputs": [
        {
          "output_type": "stream",
          "name": "stderr",
          "text": "[Stage 64:=======================================================>(67 + 1) / 68]\r"
        },
        {
          "output_type": "stream",
          "name": "stdout",
          "text": "+--------------------+------------------+--------------------+------------------+------------------+\n|   category_code_oct| total_revenue_oct|   category_code_nov| total_revenue_nov|        difference|\n+--------------------+------------------+--------------------+------------------+------------------+\n|    computers.ebooks|47831.619999999995|    computers.ebooks|64230.219999999994|           16398.6|\n|computers.periphe...|26891.610000000004|computers.periphe...|28976.320000000007|2084.7100000000028|\n|appliances.kitche...|           3683.97|appliances.kitche...| 4721.330000000001| 1037.360000000001|\n|electronics.video...| 37059.95000000001|electronics.video...|          55364.94| 18304.98999999999|\n|electronics.camer...|140711.99000000002|electronics.camer...|         157889.89|17177.899999999994|\n|       apparel.shirt|1940.5699999999997|       apparel.shirt| 6849.440000000002| 4908.870000000003|\n|electronics.audio...|3539126.9900000007|electronics.audio...| 5669502.490000021|  2130375.50000002|\n|appliances.kitche...|255830.39000000007|appliances.kitche...| 415451.8099999999| 159621.4199999998|\n|appliances.kitche...|53324.380000000005|appliances.kitche...| 79856.06999999999|26531.689999999988|\n|appliances.kitche...|205012.05000000002|appliances.kitche...|313824.69000000006|108812.64000000004|\n+--------------------+------------------+--------------------+------------------+------------------+\nonly showing top 10 rows\n\n"
        },
        {
          "output_type": "stream",
          "name": "stderr",
          "text": "                                                                                \r"
        }
      ],
      "execution_count": 60,
      "metadata": {
        "execution": {
          "iopub.status.busy": "2024-08-28T03:49:26.572471Z",
          "iopub.execute_input": "2024-08-28T03:49:26.573098Z",
          "iopub.status.idle": "2024-08-28T03:52:26.014306Z",
          "shell.execute_reply.started": "2024-08-28T03:49:26.573034Z",
          "shell.execute_reply": "2024-08-28T03:52:26.012474Z"
        },
        "trusted": true
      }
    },
    {
      "cell_type": "code",
      "source": [
        "df_rev_diff_increasing = df_rev_diff.filter(df_rev_diff[\"difference\"] > 0)\n",
        "df_rev_diff_increasing"
      ],
      "outputs": [
        {
          "output_type": "execute_result",
          "execution_count": 61,
          "data": {
            "text/plain": "DataFrame[category_code_oct: string, total_revenue_oct: double, category_code_nov: string, total_revenue_nov: double, difference: double]"
          },
          "metadata": {}
        }
      ],
      "execution_count": 61,
      "metadata": {
        "execution": {
          "iopub.status.busy": "2024-08-28T03:52:26.019186Z",
          "iopub.execute_input": "2024-08-28T03:52:26.019667Z",
          "iopub.status.idle": "2024-08-28T03:52:26.043770Z",
          "shell.execute_reply.started": "2024-08-28T03:52:26.019613Z",
          "shell.execute_reply": "2024-08-28T03:52:26.042487Z"
        },
        "trusted": true
      }
    },
    {
      "cell_type": "code",
      "source": [
        "df_rev_diff_decreasing = df_rev_diff.filter(df_rev_diff[\"difference\"] < 0)\n",
        "df_rev_diff_decreasing"
      ],
      "outputs": [
        {
          "output_type": "execute_result",
          "execution_count": 62,
          "data": {
            "text/plain": "DataFrame[category_code_oct: string, total_revenue_oct: double, category_code_nov: string, total_revenue_nov: double, difference: double]"
          },
          "metadata": {}
        }
      ],
      "execution_count": 62,
      "metadata": {
        "execution": {
          "iopub.status.busy": "2024-08-28T03:52:26.045222Z",
          "iopub.execute_input": "2024-08-28T03:52:26.045611Z",
          "iopub.status.idle": "2024-08-28T03:52:26.064812Z",
          "shell.execute_reply.started": "2024-08-28T03:52:26.045570Z",
          "shell.execute_reply": "2024-08-28T03:52:26.063280Z"
        },
        "trusted": true
      }
    },
    {
      "cell_type": "markdown",
      "source": [
        "## Top 10 Increasing revenue codes"
      ],
      "metadata": {}
    },
    {
      "cell_type": "code",
      "source": [
        "df_rev_diff_increasing = df_rev_diff_increasing.sort(\"difference\", ascending = [False])\n",
        "df_rev_diff_increasing.show(10)"
      ],
      "outputs": [
        {
          "output_type": "stream",
          "name": "stderr",
          "text": "[Stage 70:=======================================================>(67 + 1) / 68]\r"
        },
        {
          "output_type": "stream",
          "name": "stdout",
          "text": "+--------------------+--------------------+--------------------+--------------------+--------------------+\n|   category_code_oct|   total_revenue_oct|   category_code_nov|   total_revenue_nov|          difference|\n+--------------------+--------------------+--------------------+--------------------+--------------------+\n|electronics.smart...|1.5704962336999914E8|electronics.smart...|1.7782166160999876E8|2.0772038239999622E7|\n|electronics.video.tv|   8423407.859999994|electronics.video.tv|1.2457151160000006E7|   4033743.300000012|\n|electronics.audio...|  3539126.9900000007|electronics.audio...|   5669502.490000021|    2130375.50000002|\n|  electronics.clocks|   4818305.469999999|  electronics.clocks|   6552737.249999998|  1734431.7799999993|\n|  computers.notebook|          8979887.25|  computers.notebook|1.0678429710000006E7|  1698542.4600000065|\n|appliances.kitche...|   4658646.590000002|appliances.kitche...|          5801906.33|  1143259.7399999984|\n|appliances.enviro...|  1716425.4099999995|appliances.enviro...|   2762311.619999999|  1045886.2099999997|\n|appliances.kitche...|          3830077.01|appliances.kitche...|   4722657.300000001|    892580.290000001|\n|       apparel.shoes|   366486.9699999999|       apparel.shoes|   896960.2899999996|   530473.3199999996|\n|   computers.desktop|  1116821.9800000002|   computers.desktop|  1556637.6999999997|   439815.7199999995|\n+--------------------+--------------------+--------------------+--------------------+--------------------+\nonly showing top 10 rows\n\n"
        },
        {
          "output_type": "stream",
          "name": "stderr",
          "text": "                                                                                \r"
        }
      ],
      "execution_count": 63,
      "metadata": {
        "execution": {
          "iopub.status.busy": "2024-08-28T03:52:26.068257Z",
          "iopub.execute_input": "2024-08-28T03:52:26.069286Z",
          "iopub.status.idle": "2024-08-28T03:54:18.551820Z",
          "shell.execute_reply.started": "2024-08-28T03:52:26.069237Z",
          "shell.execute_reply": "2024-08-28T03:54:18.550276Z"
        },
        "trusted": true
      }
    },
    {
      "cell_type": "markdown",
      "source": [
        "## Top 10 decreasing revenue codes"
      ],
      "metadata": {}
    },
    {
      "cell_type": "code",
      "source": [
        "df_rev_diff_decreasing = df_rev_diff_decreasing.sort(\"difference\", ascending = [True])\n",
        "df_rev_diff_decreasing.show(10)"
      ],
      "outputs": [
        {
          "output_type": "stream",
          "name": "stderr",
          "text": "[Stage 76:=======================================================>(67 + 1) / 68]\r"
        },
        {
          "output_type": "stream",
          "name": "stdout",
          "text": "+--------------------+------------------+--------------------+------------------+-------------------+\n|   category_code_oct| total_revenue_oct|   category_code_nov| total_revenue_nov|         difference|\n+--------------------+------------------+--------------------+------------------+-------------------+\n|  electronics.tablet|1610973.7799999998|  electronics.tablet|1520253.0100000005| -90720.76999999932|\n|         kids.skates|202582.28999999995|         kids.skates|         118786.27| -83796.01999999995|\n|       sport.bicycle|203694.72999999995|       sport.bicycle|158871.60999999993|-44823.120000000024|\n|auto.accessories....| 523241.7999999999|auto.accessories....| 487207.6299999999|-36034.169999999984|\n|  apparel.shoes.keds|          188218.5|  apparel.shoes.keds|169055.61000000002|-19162.889999999985|\n|construction.tool...|         173856.12|construction.tool...|166201.41999999998| -7654.700000000012|\n|construction.tool...|          34624.83|construction.tool...|          28959.86| -5664.970000000001|\n|construction.tool...|14339.579999999994|construction.tool...|           9605.15| -4734.429999999995|\n|auto.accessories....|          14555.14|auto.accessories....|          10011.13|           -4544.01|\n|country_yard.cult...| 9204.609999999999|country_yard.cult...|           6049.21|-3155.3999999999987|\n+--------------------+------------------+--------------------+------------------+-------------------+\nonly showing top 10 rows\n\n"
        },
        {
          "output_type": "stream",
          "name": "stderr",
          "text": "                                                                                \r"
        }
      ],
      "execution_count": 64,
      "metadata": {
        "execution": {
          "iopub.status.busy": "2024-08-28T03:54:18.553634Z",
          "iopub.execute_input": "2024-08-28T03:54:18.554409Z",
          "iopub.status.idle": "2024-08-28T03:56:07.612879Z",
          "shell.execute_reply.started": "2024-08-28T03:54:18.554355Z",
          "shell.execute_reply": "2024-08-28T03:56:07.611484Z"
        },
        "trusted": true
      }
    },
    {
      "cell_type": "markdown",
      "source": [
        "# Question 3"
      ],
      "metadata": {}
    },
    {
      "cell_type": "code",
      "source": [
        "df_nov_new = spark.read.option(\"header\",\"True\").option(\"delimiter\",\",\").csv(path1, inferSchema = True)\n",
        "df_oct_new = spark.read.option(\"header\",\"True\").option(\"delimiter\",\",\").csv(path2, inferSchema = True)\n"
      ],
      "outputs": [
        {
          "output_type": "stream",
          "name": "stderr",
          "text": "                                                                                \r"
        }
      ],
      "execution_count": 65,
      "metadata": {
        "execution": {
          "iopub.status.busy": "2024-08-28T03:56:07.614780Z",
          "iopub.execute_input": "2024-08-28T03:56:07.615332Z",
          "iopub.status.idle": "2024-08-28T04:02:23.428875Z",
          "shell.execute_reply.started": "2024-08-28T03:56:07.615270Z",
          "shell.execute_reply": "2024-08-28T04:02:23.427287Z"
        },
        "trusted": true
      }
    },
    {
      "cell_type": "code",
      "source": [
        "df_brand_nov = df_nov_new.select([\"brand\", \"event_type\"])\n",
        "df_brand_oct = df_oct_new.select([\"brand\", \"event_type\"])"
      ],
      "outputs": [],
      "execution_count": 84,
      "metadata": {
        "execution": {
          "iopub.status.busy": "2024-08-28T04:04:02.430993Z",
          "iopub.execute_input": "2024-08-28T04:04:02.431625Z",
          "iopub.status.idle": "2024-08-28T04:04:02.467967Z",
          "shell.execute_reply.started": "2024-08-28T04:04:02.431567Z",
          "shell.execute_reply": "2024-08-28T04:04:02.466619Z"
        },
        "trusted": true
      }
    },
    {
      "cell_type": "code",
      "source": [
        "df_brand_nov = df_brand_nov.na.drop(subset = [\"brand\"])\n",
        "df_brand_oct = df_brand_oct.na.drop(subset = [\"brand\"])"
      ],
      "outputs": [],
      "execution_count": 85,
      "metadata": {
        "execution": {
          "iopub.status.busy": "2024-08-28T04:04:03.179999Z",
          "iopub.execute_input": "2024-08-28T04:04:03.180877Z",
          "iopub.status.idle": "2024-08-28T04:04:03.199447Z",
          "shell.execute_reply.started": "2024-08-28T04:04:03.180828Z",
          "shell.execute_reply": "2024-08-28T04:04:03.198146Z"
        },
        "trusted": true
      }
    },
    {
      "cell_type": "code",
      "source": [
        "df_brand_view_nov = df_brand_nov.filter(df_brand_nov[\"event_type\"] == \"view\")\n",
        "df_brand_cart_nov = df_brand_nov.filter(df_brand_nov[\"event_type\"] == \"cart\")"
      ],
      "outputs": [],
      "execution_count": 86,
      "metadata": {
        "execution": {
          "iopub.status.busy": "2024-08-28T04:04:03.916325Z",
          "iopub.execute_input": "2024-08-28T04:04:03.916875Z",
          "iopub.status.idle": "2024-08-28T04:04:03.933158Z",
          "shell.execute_reply.started": "2024-08-28T04:04:03.916829Z",
          "shell.execute_reply": "2024-08-28T04:04:03.931673Z"
        },
        "trusted": true
      }
    },
    {
      "cell_type": "code",
      "source": [
        "df_brand_view_oct = df_brand_oct.filter(df_brand_oct[\"event_type\"] == \"view\")\n",
        "df_brand_cart_oct = df_brand_oct.filter(df_brand_oct[\"event_type\"] == \"cart\")"
      ],
      "outputs": [],
      "execution_count": 87,
      "metadata": {
        "execution": {
          "iopub.status.busy": "2024-08-28T04:04:05.084795Z",
          "iopub.execute_input": "2024-08-28T04:04:05.085340Z",
          "iopub.status.idle": "2024-08-28T04:04:05.101525Z",
          "shell.execute_reply.started": "2024-08-28T04:04:05.085290Z",
          "shell.execute_reply": "2024-08-28T04:04:05.099846Z"
        },
        "trusted": true
      }
    },
    {
      "cell_type": "code",
      "source": [
        "df_brand_nov_view = df_brand_view_nov.groupBy('brand').agg(f.count('event_type').alias(\"view_count\"))\n",
        "df_brand_nov_view"
      ],
      "outputs": [
        {
          "output_type": "execute_result",
          "execution_count": 88,
          "data": {
            "text/plain": "DataFrame[brand: string, view_count: bigint]"
          },
          "metadata": {}
        }
      ],
      "execution_count": 88,
      "metadata": {
        "execution": {
          "iopub.status.busy": "2024-08-28T04:04:06.298659Z",
          "iopub.execute_input": "2024-08-28T04:04:06.299167Z",
          "iopub.status.idle": "2024-08-28T04:04:06.333389Z",
          "shell.execute_reply.started": "2024-08-28T04:04:06.299121Z",
          "shell.execute_reply": "2024-08-28T04:04:06.332016Z"
        },
        "trusted": true
      }
    },
    {
      "cell_type": "code",
      "source": [
        "df_brand_nov_cart = df_brand_cart_nov.groupBy('brand').agg(f.count('event_type').alias(\"cart_count\"))\n",
        "df_brand_nov_cart"
      ],
      "outputs": [
        {
          "output_type": "execute_result",
          "execution_count": 89,
          "data": {
            "text/plain": "DataFrame[brand: string, cart_count: bigint]"
          },
          "metadata": {}
        }
      ],
      "execution_count": 89,
      "metadata": {
        "execution": {
          "iopub.status.busy": "2024-08-28T04:04:07.485587Z",
          "iopub.execute_input": "2024-08-28T04:04:07.486143Z",
          "iopub.status.idle": "2024-08-28T04:04:07.518480Z",
          "shell.execute_reply.started": "2024-08-28T04:04:07.486075Z",
          "shell.execute_reply": "2024-08-28T04:04:07.516879Z"
        },
        "trusted": true
      }
    },
    {
      "cell_type": "code",
      "source": [
        "df_brand_oct_view = df_brand_view_oct.groupBy('brand').agg(f.count('event_type').alias(\"view_count\"))\n",
        "df_brand_oct_view"
      ],
      "outputs": [
        {
          "output_type": "execute_result",
          "execution_count": 90,
          "data": {
            "text/plain": "DataFrame[brand: string, view_count: bigint]"
          },
          "metadata": {}
        }
      ],
      "execution_count": 90,
      "metadata": {
        "execution": {
          "iopub.status.busy": "2024-08-28T04:04:08.798033Z",
          "iopub.execute_input": "2024-08-28T04:04:08.798548Z",
          "iopub.status.idle": "2024-08-28T04:04:08.830345Z",
          "shell.execute_reply.started": "2024-08-28T04:04:08.798500Z",
          "shell.execute_reply": "2024-08-28T04:04:08.828696Z"
        },
        "trusted": true
      }
    },
    {
      "cell_type": "code",
      "source": [
        "df_brand_oct_cart = df_brand_cart_oct.groupBy('brand').agg(f.count('event_type').alias(\"cart_count\"))\n",
        "df_brand_oct_cart"
      ],
      "outputs": [
        {
          "output_type": "execute_result",
          "execution_count": 91,
          "data": {
            "text/plain": "DataFrame[brand: string, cart_count: bigint]"
          },
          "metadata": {}
        }
      ],
      "execution_count": 91,
      "metadata": {
        "execution": {
          "iopub.status.busy": "2024-08-28T04:04:10.140189Z",
          "iopub.execute_input": "2024-08-28T04:04:10.140709Z",
          "iopub.status.idle": "2024-08-28T04:04:10.170032Z",
          "shell.execute_reply.started": "2024-08-28T04:04:10.140658Z",
          "shell.execute_reply": "2024-08-28T04:04:10.168791Z"
        },
        "trusted": true
      }
    },
    {
      "cell_type": "code",
      "source": [
        "df_brand_nov_view = df_brand_nov_view.withColumnRenamed(\"brand\",\"brand_nov_view\")\n",
        "df_brand_oct_view = df_brand_oct_view.withColumnRenamed(\"brand\",\"brand_oct_view\")"
      ],
      "outputs": [],
      "execution_count": 134,
      "metadata": {
        "execution": {
          "iopub.status.busy": "2024-08-28T04:46:07.182396Z",
          "iopub.execute_input": "2024-08-28T04:46:07.182949Z",
          "iopub.status.idle": "2024-08-28T04:46:07.197700Z",
          "shell.execute_reply.started": "2024-08-28T04:46:07.182885Z",
          "shell.execute_reply": "2024-08-28T04:46:07.196327Z"
        },
        "trusted": true
      }
    },
    {
      "cell_type": "code",
      "source": [
        "df_brand_nov_cart = df_brand_nov_cart.withColumnRenamed(\"brand\",\"brand_nov_cart\")\n",
        "df_brand_oct_cart = df_brand_oct_cart.withColumnRenamed(\"brand\",\"brand_oct_cart\")"
      ],
      "outputs": [],
      "execution_count": 135,
      "metadata": {
        "execution": {
          "iopub.status.busy": "2024-08-28T04:46:08.372082Z",
          "iopub.execute_input": "2024-08-28T04:46:08.372570Z",
          "iopub.status.idle": "2024-08-28T04:46:08.385556Z",
          "shell.execute_reply.started": "2024-08-28T04:46:08.372522Z",
          "shell.execute_reply": "2024-08-28T04:46:08.384011Z"
        },
        "trusted": true
      }
    },
    {
      "cell_type": "code",
      "source": [
        "df_view_cart_nov = df_brand_nov_view.join(df_brand_nov_cart, df_brand_nov_view[\"brand_nov_view\"] == df_brand_nov_cart[\"brand_nov_cart\"])\n",
        "df_view_cart_oct = df_brand_oct_view.join(df_brand_oct_cart, df_brand_oct_view[\"brand_oct_view\"] == df_brand_oct_cart[\"brand_oct_cart\"])\n",
        "df_view_cart_nov"
      ],
      "outputs": [
        {
          "output_type": "execute_result",
          "execution_count": 136,
          "data": {
            "text/plain": "DataFrame[brand_nov_view: string, view_count: bigint, brand_nov_cart: string, cart_count: bigint]"
          },
          "metadata": {}
        }
      ],
      "execution_count": 136,
      "metadata": {
        "execution": {
          "iopub.status.busy": "2024-08-28T04:46:34.148437Z",
          "iopub.execute_input": "2024-08-28T04:46:34.149041Z",
          "iopub.status.idle": "2024-08-28T04:46:34.188327Z",
          "shell.execute_reply.started": "2024-08-28T04:46:34.148994Z",
          "shell.execute_reply": "2024-08-28T04:46:34.187013Z"
        },
        "trusted": true
      }
    },
    {
      "cell_type": "code",
      "source": [
        "df_view_cart_oct"
      ],
      "outputs": [
        {
          "output_type": "execute_result",
          "execution_count": 137,
          "data": {
            "text/plain": "DataFrame[brand_oct_view: string, view_count: bigint, brand_oct_cart: string, cart_count: bigint]"
          },
          "metadata": {}
        }
      ],
      "execution_count": 137,
      "metadata": {
        "execution": {
          "iopub.status.busy": "2024-08-28T04:46:36.008731Z",
          "iopub.execute_input": "2024-08-28T04:46:36.009995Z",
          "iopub.status.idle": "2024-08-28T04:46:36.020574Z",
          "shell.execute_reply.started": "2024-08-28T04:46:36.009905Z",
          "shell.execute_reply": "2024-08-28T04:46:36.019479Z"
        },
        "trusted": true
      }
    },
    {
      "cell_type": "code",
      "source": [
        "df_view_cart_nov = df_view_cart_nov.withColumn(\"Conversion_Ratio\", df_view_cart_nov[\"cart_count\"]/df_view_cart_nov[\"view_count\"])\n",
        "df_view_cart_oct = df_view_cart_oct.withColumn(\"Conversion_Ratio\", df_view_cart_oct[\"cart_count\"]/df_view_cart_oct[\"view_count\"])"
      ],
      "outputs": [],
      "execution_count": 138,
      "metadata": {
        "execution": {
          "iopub.status.busy": "2024-08-28T04:46:38.530314Z",
          "iopub.execute_input": "2024-08-28T04:46:38.531028Z",
          "iopub.status.idle": "2024-08-28T04:46:38.557135Z",
          "shell.execute_reply.started": "2024-08-28T04:46:38.530966Z",
          "shell.execute_reply": "2024-08-28T04:46:38.556032Z"
        },
        "trusted": true
      }
    },
    {
      "cell_type": "code",
      "source": [
        "df_view_cart_nov = df_view_cart_nov.sort(\"Conversion_Ratio\", ascending = [False])\n",
        "df_view_cart_nov.show(10)"
      ],
      "outputs": [
        {
          "output_type": "stream",
          "name": "stderr",
          "text": "[Stage 134:======================================================>(67 + 1) / 68]\r"
        },
        {
          "output_type": "stream",
          "name": "stdout",
          "text": "+--------------+----------+--------------+----------+-------------------+\n|brand_nov_view|view_count|brand_nov_cart|cart_count|   Conversion_Ratio|\n+--------------+----------+--------------+----------+-------------------+\n|   pixiebelles|         5|   pixiebelles|         2|                0.4|\n|      autolite|         5|      autolite|         2|                0.4|\n|         ivaru|       177|         ivaru|        51|  0.288135593220339|\n|     bigklever|         4|     bigklever|         1|               0.25|\n|         lamel|         9|         lamel|         2| 0.2222222222222222|\n|     superfine|        19|     superfine|         4|0.21052631578947367|\n|  merejbaspasy|        91|  merejbaspasy|        19| 0.2087912087912088|\n|           htl|         5|           htl|         1|                0.2|\n|          basf|       126|          basf|        25| 0.1984126984126984|\n|      yoshioki|        54|      yoshioki|        10|0.18518518518518517|\n+--------------+----------+--------------+----------+-------------------+\nonly showing top 10 rows\n\n"
        },
        {
          "output_type": "stream",
          "name": "stderr",
          "text": "                                                                                \r"
        }
      ],
      "execution_count": 139,
      "metadata": {
        "execution": {
          "iopub.status.busy": "2024-08-28T04:46:39.623849Z",
          "iopub.execute_input": "2024-08-28T04:46:39.624370Z",
          "iopub.status.idle": "2024-08-28T04:49:33.992174Z",
          "shell.execute_reply.started": "2024-08-28T04:46:39.624321Z",
          "shell.execute_reply": "2024-08-28T04:49:33.990771Z"
        },
        "trusted": true
      }
    },
    {
      "cell_type": "code",
      "source": [
        "df_view_cart_oct = df_view_cart_oct.sort(\"Conversion_Ratio\", ascending = [False])\n",
        "df_view_cart_oct.show(10)"
      ],
      "outputs": [
        {
          "output_type": "stream",
          "name": "stderr",
          "text": "[Stage 140:=====================================================> (42 + 1) / 43]\r"
        },
        {
          "output_type": "stream",
          "name": "stdout",
          "text": "+--------------------+----------+--------------------+----------+--------------------+\n|      brand_oct_view|view_count|      brand_oct_cart|cart_count|    Conversion_Ratio|\n+--------------------+----------+--------------------+----------+--------------------+\n|                  ea|     13025|                  ea|      1855| 0.14241842610364683|\n|             diamond|       594|             diamond|        44| 0.07407407407407407|\n|             samsung|   4806630|             samsung|    303249| 0.06308973230725061|\n|         homeelement|       101|         homeelement|         6|  0.0594059405940594|\n|               steba|        85|               steba|         5|0.058823529411764705|\n|              domyos|      2178|              domyos|       128| 0.05876951331496786|\n|               goo.n|       933|               goo.n|        53| 0.05680600214362272|\n|sonyinteractiveen...|       985|sonyinteractiveen...|        55| 0.05583756345177665|\n|               apple|   3770597|               apple|    209084| 0.05545116595594809|\n|       dreammachines|        81|       dreammachines|         4| 0.04938271604938271|\n+--------------------+----------+--------------------+----------+--------------------+\nonly showing top 10 rows\n\n"
        },
        {
          "output_type": "stream",
          "name": "stderr",
          "text": "                                                                                \r"
        }
      ],
      "execution_count": 140,
      "metadata": {
        "execution": {
          "iopub.status.busy": "2024-08-28T04:49:33.994345Z",
          "iopub.execute_input": "2024-08-28T04:49:33.994843Z",
          "iopub.status.idle": "2024-08-28T04:51:24.075528Z",
          "shell.execute_reply.started": "2024-08-28T04:49:33.994796Z",
          "shell.execute_reply": "2024-08-28T04:51:24.073824Z"
        },
        "trusted": true
      }
    },
    {
      "cell_type": "markdown",
      "source": [
        "# Question 4"
      ],
      "metadata": {}
    },
    {
      "cell_type": "code",
      "source": [
        "df_rev_brand_nov = df_nov_new.select([\"brand\", \"price\", \"event_type\"])\n",
        "df_rev_brand_oct = df_oct_new.select([\"brand\", \"price\", \"event_type\"])"
      ],
      "outputs": [],
      "execution_count": 97,
      "metadata": {
        "execution": {
          "iopub.status.busy": "2024-08-28T04:10:20.298830Z",
          "iopub.execute_input": "2024-08-28T04:10:20.299317Z",
          "iopub.status.idle": "2024-08-28T04:10:20.335249Z",
          "shell.execute_reply.started": "2024-08-28T04:10:20.299270Z",
          "shell.execute_reply": "2024-08-28T04:10:20.333534Z"
        },
        "trusted": true
      }
    },
    {
      "cell_type": "code",
      "source": [
        "df_rev_brand_nov = df_rev_brand_nov.na.drop(subset = [\"brand\"])\n",
        "df_rev_brand_oct = df_rev_brand_oct.na.drop(subset = [\"brand\"])"
      ],
      "outputs": [],
      "execution_count": 98,
      "metadata": {
        "execution": {
          "iopub.status.busy": "2024-08-28T04:10:21.146394Z",
          "iopub.execute_input": "2024-08-28T04:10:21.146861Z",
          "iopub.status.idle": "2024-08-28T04:10:21.166316Z",
          "shell.execute_reply.started": "2024-08-28T04:10:21.146812Z",
          "shell.execute_reply": "2024-08-28T04:10:21.165028Z"
        },
        "trusted": true
      }
    },
    {
      "cell_type": "code",
      "source": [
        "df_rev_nov = df_rev_brand_nov.filter(df_rev_brand_nov[\"event_type\"] == \"purchase\")\n",
        "df_rev_oct = df_rev_brand_oct.filter(df_rev_brand_oct[\"event_type\"] == \"purchase\")"
      ],
      "outputs": [],
      "execution_count": 99,
      "metadata": {
        "execution": {
          "iopub.status.busy": "2024-08-28T04:10:21.994672Z",
          "iopub.execute_input": "2024-08-28T04:10:21.995179Z",
          "iopub.status.idle": "2024-08-28T04:10:22.010207Z",
          "shell.execute_reply.started": "2024-08-28T04:10:21.995132Z",
          "shell.execute_reply": "2024-08-28T04:10:22.008724Z"
        },
        "trusted": true
      }
    },
    {
      "cell_type": "code",
      "source": [
        "df_rev_nov = df_rev_nov.groupBy(\"brand\").agg(f.sum(\"price\").alias(\"total_revenue_nov\"))\n",
        "df_rev_oct = df_rev_oct.groupBy(\"brand\").agg(f.sum(\"price\").alias(\"total_revenue_oct\"))"
      ],
      "outputs": [],
      "execution_count": 100,
      "metadata": {
        "execution": {
          "iopub.status.busy": "2024-08-28T04:10:23.052767Z",
          "iopub.execute_input": "2024-08-28T04:10:23.053269Z",
          "iopub.status.idle": "2024-08-28T04:10:23.093186Z",
          "shell.execute_reply.started": "2024-08-28T04:10:23.053215Z",
          "shell.execute_reply": "2024-08-28T04:10:23.091660Z"
        },
        "trusted": true
      }
    },
    {
      "cell_type": "code",
      "source": [
        "df_rev_nov = df_rev_nov.withColumnRenamed(\"brand\", \"brand_nov\")\n",
        "df_rev_oct = df_rev_oct.withColumnRenamed(\"brand\", \"brand_oct\")"
      ],
      "outputs": [],
      "execution_count": 130,
      "metadata": {
        "execution": {
          "iopub.status.busy": "2024-08-28T04:40:35.335435Z",
          "iopub.execute_input": "2024-08-28T04:40:35.336458Z",
          "iopub.status.idle": "2024-08-28T04:40:35.350964Z",
          "shell.execute_reply.started": "2024-08-28T04:40:35.336406Z",
          "shell.execute_reply": "2024-08-28T04:40:35.349763Z"
        },
        "trusted": true
      }
    },
    {
      "cell_type": "code",
      "source": [
        "df_nov_oct = df_rev_nov.join(df_rev_oct, df_rev_nov[\"brand_nov\"] == df_rev_oct[\"brand_oct\"],\"inner\")"
      ],
      "outputs": [],
      "execution_count": 131,
      "metadata": {
        "execution": {
          "iopub.status.busy": "2024-08-28T04:41:56.308180Z",
          "iopub.execute_input": "2024-08-28T04:41:56.309348Z",
          "iopub.status.idle": "2024-08-28T04:41:56.325572Z",
          "shell.execute_reply.started": "2024-08-28T04:41:56.309293Z",
          "shell.execute_reply": "2024-08-28T04:41:56.323949Z"
        },
        "trusted": true
      }
    },
    {
      "cell_type": "markdown",
      "source": [
        "## Top 10 brands for increasing revenues"
      ],
      "metadata": {}
    },
    {
      "cell_type": "code",
      "source": [
        "df_nov_oct = df_nov_oct.withColumn(\"difference\", df_nov_oct[\"total_revenue_nov\"] - df_nov_oct[\"total_revenue_oct\"])\n",
        "df_nov_oct = df_nov_oct.sort(\"difference\", ascending = [False])\n",
        "df_nov_oct.show(10) #increasing"
      ],
      "outputs": [
        {
          "output_type": "stream",
          "name": "stderr",
          "text": "[Stage 122:=====================================================> (42 + 1) / 43]\r"
        },
        {
          "output_type": "stream",
          "name": "stdout",
          "text": "+---------+--------------------+---------+-------------------+--------------------+\n|brand_nov|   total_revenue_nov|brand_oct|  total_revenue_oct|          difference|\n+---------+--------------------+---------+-------------------+--------------------+\n|    apple|1.2751252488000059E8|    apple|1.112092688200001E8|1.6303256060000494E7|\n|  samsung| 5.486988086999983E7|  samsung|4.640753261000007E7|   8462348.259999767|\n|   xiaomi|1.1259865960000008E7|   xiaomi|  9194033.289999995|   2065832.670000013|\n|       lg|          5239018.76|       lg| 3387887.9600000004|  1851130.7999999993|\n|     sony|   3862886.300000004|     sony| 2478196.6799999997|  1384689.6200000043|\n|     oppo|  3488540.7599999965|     oppo| 2412959.7600000002|  1075580.9999999963|\n|   lenovo|   2698106.299999999|   lenovo| 1752638.5299999993|   945467.7699999996|\n|     asus|  1665811.5900000003|     asus|          970019.39|   695792.2000000003|\n|    artel|   1642215.040000001|    artel| 1034152.4099999999|    608062.630000001|\n|    bosch|           1832717.5|    bosch| 1248729.0899999999|   583988.4100000001|\n+---------+--------------------+---------+-------------------+--------------------+\nonly showing top 10 rows\n\n"
        },
        {
          "output_type": "stream",
          "name": "stderr",
          "text": "                                                                                \r"
        }
      ],
      "execution_count": 132,
      "metadata": {
        "execution": {
          "iopub.status.busy": "2024-08-28T04:41:58.373269Z",
          "iopub.execute_input": "2024-08-28T04:41:58.373720Z",
          "iopub.status.idle": "2024-08-28T04:44:12.086161Z",
          "shell.execute_reply.started": "2024-08-28T04:41:58.373679Z",
          "shell.execute_reply": "2024-08-28T04:44:12.084784Z"
        },
        "trusted": true
      }
    },
    {
      "cell_type": "markdown",
      "source": [
        "## Top 10 brands for decreasing revenues"
      ],
      "metadata": {}
    },
    {
      "cell_type": "code",
      "source": [
        "df_nov_oct_decr = df_nov_oct.sort(\"difference\", ascending = [True])\n",
        "df_nov_oct_decr.show(10)"
      ],
      "outputs": [
        {
          "output_type": "stream",
          "name": "stderr",
          "text": "[Stage 128:=====================================================> (42 + 1) / 43]\r"
        },
        {
          "output_type": "stream",
          "name": "stdout",
          "text": "+---------+------------------+---------+------------------+-------------------+\n|brand_nov| total_revenue_nov|brand_oct| total_revenue_oct|         difference|\n+---------+------------------+---------+------------------+-------------------+\n|     acer| 3347306.530000001|     acer|3576719.5200000014|-229412.99000000022|\n|     peda|48278.939999999995|     peda|219342.36999999997|-171063.42999999996|\n| omabelle|201897.13000000003| omabelle| 347730.8700000001|-145833.74000000008|\n|   hubert| 98882.01000000005|   hubert|219706.36000000002|-120824.34999999996|\n|   huawei|        4780682.35|   huawei| 4883421.739999999|-102739.38999999966|\n| elenberg|160643.44000000006| elenberg|259771.00000000012| -99127.56000000006|\n|     skad|         115344.12|     skad|189851.01999999996| -74506.89999999997|\n|    force|222173.14999999994|    force|286056.18999999994| -63883.04000000001|\n|     beko| 904347.0499999997|     beko| 963940.5899999999|-59593.540000000154|\n|    genau|29730.070000000007|    genau| 83821.81000000001|-54091.740000000005|\n+---------+------------------+---------+------------------+-------------------+\nonly showing top 10 rows\n\n"
        },
        {
          "output_type": "stream",
          "name": "stderr",
          "text": "                                                                                \r"
        }
      ],
      "execution_count": 133,
      "metadata": {
        "execution": {
          "iopub.status.busy": "2024-08-28T04:44:12.088557Z",
          "iopub.execute_input": "2024-08-28T04:44:12.089009Z",
          "iopub.status.idle": "2024-08-28T04:46:03.322070Z",
          "shell.execute_reply.started": "2024-08-28T04:44:12.088964Z",
          "shell.execute_reply": "2024-08-28T04:46:03.320321Z"
        },
        "trusted": true
      }
    },
    {
      "cell_type": "markdown",
      "source": [
        "# Question 5 and Question 6"
      ],
      "metadata": {}
    },
    {
      "cell_type": "code",
      "source": [
        "df_time_nov = df_nov_new.select([\"brand\",\"event_type\",\"price\",\"event_time\"])\n",
        "df_time_oct = df_oct_new.select([\"brand\",\"event_type\",\"price\",\"event_time\"])"
      ],
      "outputs": [
        {
          "output_type": "stream",
          "name": "stderr",
          "text": "[Stage 112:========================================>              (32 + 4) / 43]\r"
        }
      ],
      "execution_count": 118,
      "metadata": {
        "execution": {
          "iopub.status.busy": "2024-08-28T04:35:36.806329Z",
          "iopub.execute_input": "2024-08-28T04:35:36.806993Z",
          "iopub.status.idle": "2024-08-28T04:35:36.894637Z",
          "shell.execute_reply.started": "2024-08-28T04:35:36.806918Z",
          "shell.execute_reply": "2024-08-28T04:35:36.893239Z"
        },
        "trusted": true
      }
    },
    {
      "cell_type": "code",
      "source": [
        "df_time_nov = df_time_nov.na.drop(subset = [\"brand\"])\n",
        "df_time_oct = df_time_oct.na.drop(subset = [\"brand\"])"
      ],
      "outputs": [],
      "execution_count": 119,
      "metadata": {
        "execution": {
          "iopub.status.busy": "2024-08-28T04:35:38.883266Z",
          "iopub.execute_input": "2024-08-28T04:35:38.883714Z",
          "iopub.status.idle": "2024-08-28T04:35:39.118349Z",
          "shell.execute_reply.started": "2024-08-28T04:35:38.883671Z",
          "shell.execute_reply": "2024-08-28T04:35:39.116964Z"
        },
        "trusted": true
      }
    },
    {
      "cell_type": "code",
      "source": [
        "df_time_nov = df_time_nov.withColumn(\"hour\", f.hour(\"event_time\"))\n",
        "df_time_nov = df_time_nov.withColumn(\"minute\", f.minute(\"event_time\"))\n",
        "df_time_nov = df_time_nov.withColumn(\"second\", f.second(\"event_time\"))"
      ],
      "outputs": [],
      "execution_count": 120,
      "metadata": {
        "execution": {
          "iopub.status.busy": "2024-08-28T04:35:39.960274Z",
          "iopub.execute_input": "2024-08-28T04:35:39.961087Z",
          "iopub.status.idle": "2024-08-28T04:35:40.063158Z",
          "shell.execute_reply.started": "2024-08-28T04:35:39.961021Z",
          "shell.execute_reply": "2024-08-28T04:35:40.061731Z"
        },
        "trusted": true
      }
    },
    {
      "cell_type": "code",
      "source": [
        "df_time_oct = df_time_oct.withColumn(\"hour\", f.hour(\"event_time\"))\n",
        "df_time_oct = df_time_oct.withColumn(\"minute\", f.minute(\"event_time\"))\n",
        "df_time_oct = df_time_oct.withColumn(\"second\", f.second(\"event_time\"))"
      ],
      "outputs": [],
      "execution_count": 122,
      "metadata": {
        "execution": {
          "iopub.status.busy": "2024-08-28T04:35:42.655783Z",
          "iopub.execute_input": "2024-08-28T04:35:42.656511Z",
          "iopub.status.idle": "2024-08-28T04:35:42.749137Z",
          "shell.execute_reply.started": "2024-08-28T04:35:42.656446Z",
          "shell.execute_reply": "2024-08-28T04:35:42.747721Z"
        },
        "trusted": true
      }
    },
    {
      "cell_type": "code",
      "source": [
        "df_time_nov = df_time_nov.filter(((df_time_nov[\"hour\"] >= 0 ) & (df_time_nov[\"hour\"] <= 9)) | ((df_time_nov[\"hour\"] == 10) & (df_time_nov[\"minute\"] == 0) & (df_time_nov[\"second\"] == 0)))\n",
        "df_time_oct = df_time_oct.filter(((df_time_oct[\"hour\"] >= 0 ) & (df_time_oct[\"hour\"] <= 9)) | ((df_time_oct[\"hour\"] == 10) & (df_time_oct[\"minute\"] == 0) & (df_time_oct[\"second\"] == 0)))"
      ],
      "outputs": [],
      "execution_count": 123,
      "metadata": {
        "execution": {
          "iopub.status.busy": "2024-08-28T04:35:44.690337Z",
          "iopub.execute_input": "2024-08-28T04:35:44.690982Z",
          "iopub.status.idle": "2024-08-28T04:35:44.744988Z",
          "shell.execute_reply.started": "2024-08-28T04:35:44.690888Z",
          "shell.execute_reply": "2024-08-28T04:35:44.743059Z"
        },
        "trusted": true
      }
    },
    {
      "cell_type": "code",
      "source": [
        "df_time_nov = df_time_nov.filter(df_time_nov[\"event_type\"] == \"purchase\")\n",
        "df_time_oct = df_time_oct.filter(df_time_oct[\"event_type\"] == \"purchase\")"
      ],
      "outputs": [],
      "execution_count": 124,
      "metadata": {
        "execution": {
          "iopub.status.busy": "2024-08-28T04:35:45.681794Z",
          "iopub.execute_input": "2024-08-28T04:35:45.682404Z",
          "iopub.status.idle": "2024-08-28T04:35:45.704335Z",
          "shell.execute_reply.started": "2024-08-28T04:35:45.682345Z",
          "shell.execute_reply": "2024-08-28T04:35:45.702985Z"
        },
        "trusted": true
      }
    },
    {
      "cell_type": "code",
      "source": [
        "df_time_nov = df_time_nov.groupBy(\"brand\").agg(f.sum(\"price\"))"
      ],
      "outputs": [
        {
          "output_type": "stream",
          "name": "stderr",
          "text": "[Stage 112:============================================>          (35 + 4) / 43]\r"
        }
      ],
      "execution_count": 125,
      "metadata": {
        "execution": {
          "iopub.status.busy": "2024-08-28T04:35:46.993760Z",
          "iopub.execute_input": "2024-08-28T04:35:46.994376Z",
          "iopub.status.idle": "2024-08-28T04:35:47.047859Z",
          "shell.execute_reply.started": "2024-08-28T04:35:46.994309Z",
          "shell.execute_reply": "2024-08-28T04:35:47.046250Z"
        },
        "trusted": true
      }
    },
    {
      "cell_type": "code",
      "source": [
        "df_time_nov = df_time_nov.withColumnRenamed(\"sum(price)\", \" revenue_nov\")"
      ],
      "outputs": [
        {
          "output_type": "stream",
          "name": "stderr",
          "text": "[Stage 112:==============================================>        (36 + 4) / 43]\r"
        }
      ],
      "execution_count": 126,
      "metadata": {
        "execution": {
          "iopub.status.busy": "2024-08-28T04:35:48.048568Z",
          "iopub.execute_input": "2024-08-28T04:35:48.049153Z",
          "iopub.status.idle": "2024-08-28T04:35:48.078938Z",
          "shell.execute_reply.started": "2024-08-28T04:35:48.049094Z",
          "shell.execute_reply": "2024-08-28T04:35:48.076045Z"
        },
        "trusted": true
      }
    },
    {
      "cell_type": "code",
      "source": [
        "df_time_oct = df_time_oct.groupBy(\"brand\").agg(f.sum(\"price\").alias(\"revenue_oct\"))"
      ],
      "outputs": [],
      "execution_count": 127,
      "metadata": {
        "execution": {
          "iopub.status.busy": "2024-08-28T04:35:49.169790Z",
          "iopub.execute_input": "2024-08-28T04:35:49.170403Z",
          "iopub.status.idle": "2024-08-28T04:35:49.231800Z",
          "shell.execute_reply.started": "2024-08-28T04:35:49.170343Z",
          "shell.execute_reply": "2024-08-28T04:35:49.230310Z"
        },
        "trusted": true
      }
    },
    {
      "cell_type": "code",
      "source": [
        "df_nov_rev_desc = df_time_nov.sort(\" revenue_nov\",ascending = [False])\n",
        "df_nov_rev_desc.show()"
      ],
      "outputs": [
        {
          "output_type": "stream",
          "name": "stderr",
          "text": "[Stage 113:======================================================>(67 + 1) / 68]\r"
        },
        {
          "output_type": "stream",
          "name": "stdout",
          "text": "+--------+--------------------+\n|   brand|         revenue_nov|\n+--------+--------------------+\n|   apple| 5.285540107000014E7|\n| samsung|2.4343482049999952E7|\n|  xiaomi|          4728145.15|\n|      lg|          2220124.87|\n|  huawei|  1965448.4700000002|\n| lucente|          1542212.88|\n|    oppo|  1509522.4999999981|\n|    sony|  1506703.0700000003|\n|    acer|  1375710.4299999997|\n|  lenovo|          1073758.32|\n|   artel|           751945.93|\n|    asus|           708319.69|\n|   bosch|           701336.12|\n| indesit|   562303.6399999999|\n|      hp|   556653.0499999999|\n|   haier|   474071.9899999999|\n|cordiant|   418524.2600000001|\n|    beko|   397114.0899999999|\n|dauscher|   365249.8300000001|\n|   midea|   262774.1099999999|\n+--------+--------------------+\nonly showing top 20 rows\n\n"
        },
        {
          "output_type": "stream",
          "name": "stderr",
          "text": "                                                                                \r"
        }
      ],
      "execution_count": 128,
      "metadata": {
        "execution": {
          "iopub.status.busy": "2024-08-28T04:35:50.371035Z",
          "iopub.execute_input": "2024-08-28T04:35:50.371657Z",
          "iopub.status.idle": "2024-08-28T04:38:55.573100Z",
          "shell.execute_reply.started": "2024-08-28T04:35:50.371590Z",
          "shell.execute_reply": "2024-08-28T04:38:55.571565Z"
        },
        "trusted": true
      }
    },
    {
      "cell_type": "code",
      "source": [
        "df_oct_rev_desc = df_time_oct.sort(\"revenue_oct\",ascending = [False])\n",
        "df_oct_rev_desc.show()"
      ],
      "outputs": [
        {
          "output_type": "stream",
          "name": "stderr",
          "text": "[Stage 118:====================================================>  (41 + 2) / 43]\r"
        },
        {
          "output_type": "stream",
          "name": "stdout",
          "text": "+--------+--------------------+\n|   brand|         revenue_oct|\n+--------+--------------------+\n|   apple|5.0918605740000114E7|\n| samsung|2.2968069980000094E7|\n|  xiaomi|   4424108.319999999|\n|  huawei|  2288629.6799999997|\n|      lg|  1647661.0500000005|\n|    acer|  1645916.2900000003|\n| lucente|  1543609.4399999997|\n|    oppo|          1167686.79|\n|    sony|  1135915.6100000003|\n|  lenovo|   798221.2800000004|\n| indesit|           647301.35|\n|   bosch|   597665.8200000001|\n|      hp|   594798.2499999999|\n|   artel|   537671.8700000002|\n|    beko|   473414.1400000001|\n|    asus|           437766.09|\n|   haier|            404939.0|\n|dauscher|           313623.22|\n|cordiant|  277413.07000000007|\n| philips|  242311.11000000002|\n+--------+--------------------+\nonly showing top 20 rows\n\n"
        },
        {
          "output_type": "stream",
          "name": "stderr",
          "text": "                                                                                \r"
        }
      ],
      "execution_count": 129,
      "metadata": {
        "execution": {
          "iopub.status.busy": "2024-08-28T04:38:55.575486Z",
          "iopub.execute_input": "2024-08-28T04:38:55.575915Z",
          "iopub.status.idle": "2024-08-28T04:40:35.064376Z",
          "shell.execute_reply.started": "2024-08-28T04:38:55.575872Z",
          "shell.execute_reply": "2024-08-28T04:40:35.062884Z"
        },
        "trusted": true
      }
    },
    {
      "cell_type": "markdown",
      "source": [
        "## We promote the top brands, i.e. the brands that generate more revenue. Thus, sorted the brands in descending order of their revenue"
      ],
      "metadata": {}
    },
    {
      "cell_type": "markdown",
      "source": [
        "# Question 7"
      ],
      "metadata": {}
    },
    {
      "cell_type": "markdown",
      "source": [
        "## No the brands for both Question 3 and 4 are not the same as we can see from the tables obtained in the results of question 3 and 4"
      ],
      "metadata": {}
    }
  ],
  "metadata": {
    "kernelspec": {
      "name": "python",
      "language": "python",
      "display_name": "Pyolite (preview)"
    },
    "language_info": {
      "codemirror_mode": {
        "name": "python",
        "version": 3
      },
      "file_extension": ".py",
      "mimetype": "text/x-python",
      "name": "python",
      "nbconvert_exporter": "python",
      "pygments_lexer": "ipython3",
      "version": "3.8"
    },
    "kaggle": {
      "accelerator": "none",
      "dataSources": [
        {
          "sourceId": 835452,
          "sourceType": "datasetVersion",
          "datasetId": 411512
        }
      ],
      "dockerImageVersionId": 30761,
      "isInternetEnabled": true,
      "language": "python",
      "sourceType": "notebook",
      "isGpuEnabled": false
    },
    "kernel_info": {
      "name": "python"
    },
    "nteract": {
      "version": "nteract-front-end@1.0.0"
    }
  },
  "nbformat": 4,
  "nbformat_minor": 4
}